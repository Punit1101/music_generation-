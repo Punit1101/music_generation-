{
 "cells": [
  {
   "cell_type": "raw",
   "id": "84b16b57",
   "metadata": {},
   "source": [
    " https://data-flair.training/blogs/automatic-music-generation-lstm-deep-learning/"
   ]
  },
  {
   "cell_type": "markdown",
   "id": "0c86d55b",
   "metadata": {},
   "source": [
    "## Import libraries"
   ]
  },
  {
   "cell_type": "code",
   "execution_count": 1,
   "id": "8d71b4b0",
   "metadata": {},
   "outputs": [],
   "source": [
    "from music21 import *\n",
    "import glob\n",
    "from tqdm import tqdm\n",
    "import numpy as np\n",
    "import random\n",
    "from tensorflow.keras.layers import LSTM, Dense, Input, Dropout\n",
    "from tensorflow.keras.models import Sequential, Model, load_model\n",
    "from sklearn.model_selection import train_test_split"
   ]
  },
  {
   "cell_type": "markdown",
   "id": "8dcd5b6f",
   "metadata": {},
   "source": [
    "## Reading ans Parsing the Midi File"
   ]
  },
  {
   "cell_type": "code",
   "execution_count": 2,
   "id": "6cf561be",
   "metadata": {},
   "outputs": [
    {
     "name": "stdout",
     "output_type": "stream",
     "text": [
      "schubert/*.mid\n"
     ]
    },
    {
     "name": "stderr",
     "output_type": "stream",
     "text": [
      "  0%|                                                                                           | 0/29 [00:00<?, ?it/s]c:\\users\\h p\\appdata\\local\\programs\\python\\python39\\lib\\site-packages\\music21\\midi\\translate.py:883: TranslateWarning: Unable to determine instrument from <music21.midi.MidiEvent SEQUENCE_TRACK_NAME, track=5, channel=None, data=b'Copyright \\xa9 2009 by Bernd Krueger'>; getting generic Instrument\n",
      "  warnings.warn(\n",
      "  3%|██▊                                                                                | 1/29 [00:52<24:29, 52.48s/it]c:\\users\\h p\\appdata\\local\\programs\\python\\python39\\lib\\site-packages\\music21\\midi\\translate.py:883: TranslateWarning: Unable to determine instrument from <music21.midi.MidiEvent SEQUENCE_TRACK_NAME, track=5, channel=None, data=b'Copyright \\xa9 2010 by Bernd Krueger'>; getting generic Instrument\n",
      "  warnings.warn(\n",
      " 14%|███████████▍                                                                       | 4/29 [02:07<12:01, 28.88s/it]c:\\users\\h p\\appdata\\local\\programs\\python\\python39\\lib\\site-packages\\music21\\midi\\translate.py:883: TranslateWarning: Unable to determine instrument from <music21.midi.MidiEvent SEQUENCE_TRACK_NAME, track=5, channel=None, data=b'Copyright \\xa9 2007 by Bernd Krueger'>; getting generic Instrument\n",
      "  warnings.warn(\n",
      " 28%|██████████████████████▉                                                            | 8/29 [04:42<13:20, 38.13s/it]c:\\users\\h p\\appdata\\local\\programs\\python\\python39\\lib\\site-packages\\music21\\midi\\translate.py:883: TranslateWarning: Unable to determine instrument from <music21.midi.MidiEvent SEQUENCE_TRACK_NAME, track=4, channel=None, data=b'Copyright \\xa9 2004 by Bernd Kr\\xfcger'>; getting generic Instrument\n",
      "  warnings.warn(\n",
      " 41%|█████████████████████████████████▉                                                | 12/29 [05:37<05:24, 19.06s/it]c:\\users\\h p\\appdata\\local\\programs\\python\\python39\\lib\\site-packages\\music21\\midi\\translate.py:883: TranslateWarning: Unable to determine instrument from <music21.midi.MidiEvent SEQUENCE_TRACK_NAME, track=5, channel=None, data=b'Copyright \\xa9 2002 by Bernd Kr\\xfcger'>; getting generic Instrument\n",
      "  warnings.warn(\n",
      " 45%|████████████████████████████████████▊                                             | 13/29 [06:44<08:59, 33.71s/it]c:\\users\\h p\\appdata\\local\\programs\\python\\python39\\lib\\site-packages\\music21\\midi\\translate.py:883: TranslateWarning: Unable to determine instrument from <music21.midi.MidiEvent SEQUENCE_TRACK_NAME, track=4, channel=None, data=b'Copyright \\xa9 2002 by Bernd Kr\\xfcger'>; getting generic Instrument\n",
      "  warnings.warn(\n",
      " 59%|████████████████████████████████████████████████                                  | 17/29 [08:24<05:40, 28.41s/it]c:\\users\\h p\\appdata\\local\\programs\\python\\python39\\lib\\site-packages\\music21\\midi\\translate.py:883: TranslateWarning: Unable to determine instrument from <music21.midi.MidiEvent SEQUENCE_TRACK_NAME, track=4, channel=None, data=b'Copyright \\xa9 1997 by Bernd Krueger'>; getting generic Instrument\n",
      "  warnings.warn(\n",
      " 66%|█████████████████████████████████████████████████████▋                            | 19/29 [09:06<04:06, 24.64s/it]c:\\users\\h p\\appdata\\local\\programs\\python\\python39\\lib\\site-packages\\music21\\midi\\translate.py:883: TranslateWarning: Unable to determine instrument from <music21.midi.MidiEvent SEQUENCE_TRACK_NAME, track=4, channel=None, data=b'Copyright \\xa9 1996 by Bernd Krueger'>; getting generic Instrument\n",
      "  warnings.warn(\n",
      " 69%|████████████████████████████████████████████████████████▌                         | 20/29 [09:29<03:37, 24.21s/it]c:\\users\\h p\\appdata\\local\\programs\\python\\python39\\lib\\site-packages\\music21\\midi\\translate.py:883: TranslateWarning: Unable to determine instrument from <music21.midi.MidiEvent SEQUENCE_TRACK_NAME, track=4, channel=None, data=b'Copyright \\xa9 1999 by Bernd Krueger'>; getting generic Instrument\n",
      "  warnings.warn(\n",
      " 97%|███████████████████████████████████████████████████████████████████████████████▏  | 28/29 [10:55<00:13, 13.67s/it]c:\\users\\h p\\appdata\\local\\programs\\python\\python39\\lib\\site-packages\\music21\\midi\\translate.py:883: TranslateWarning: Unable to determine instrument from <music21.midi.MidiEvent SEQUENCE_TRACK_NAME, track=4, channel=None, data=b'Copyright \\xa9 1999 by Bernd Kr\\xfcger'>; getting generic Instrument\n",
      "  warnings.warn(\n",
      "100%|██████████████████████████████████████████████████████████████████████████████████| 29/29 [11:16<00:00, 23.33s/it]\n",
      "C:\\Users\\HP12D5~1\\AppData\\Local\\Temp/ipykernel_1264/4128575475.py:33: VisibleDeprecationWarning: Creating an ndarray from ragged nested sequences (which is a list-or-tuple of lists-or-tuples-or ndarrays with different lengths or shapes) is deprecated. If you meant to do this, you must specify 'dtype=object' when creating the ndarray.\n",
      "  notes_array = np.array([read_files(i) for i in tqdm(all_files,position=0,leave=True)])\n"
     ]
    }
   ],
   "source": [
    "def read_files(file):\n",
    "    notes=[]\n",
    "    notes_to_parse=None\n",
    "     #parse the midi file\n",
    "    midi=converter.parse(file)\n",
    "     #seperate all instruments from the file\n",
    "    instrmt=instrument.partitionByInstrument(midi)\n",
    "\n",
    "    for part in instrmt.parts:\n",
    "     #fetch data only of Piano instrument\n",
    "         if 'Piano' in str(part):\n",
    "             notes_to_parse=part.recurse()\n",
    "\n",
    "     #iterate over all the parts of sub stream elements\n",
    "     #check if element's type is Note or chord\n",
    "     #if it is chord split them into notes\n",
    "    for element in notes_to_parse:\n",
    "        if type(element)==note.Note:\n",
    "              notes.append(str(element.pitch))\n",
    "        elif type(element)==chord.Chord:\n",
    "              notes.append('.'.join(str(n) for n in element.normalOrder))\n",
    "\n",
    "#return the list of notes\n",
    "    return notes\n",
    "\n",
    "#retrieve paths recursively from inside the directories/files\n",
    "file_path=['schubert']\n",
    "print(file_path[0]+'/*.mid')\n",
    "all_files=glob.glob(file_path[0]+'/*.mid',recursive=True)\n",
    "\n",
    "\n",
    "#reading each midi file\n",
    "notes_array = np.array([read_files(i) for i in tqdm(all_files,position=0,leave=True)])"
   ]
  },
  {
   "cell_type": "markdown",
   "id": "a1486c93",
   "metadata": {},
   "source": [
    "## Exploring the dataset"
   ]
  },
  {
   "cell_type": "code",
   "execution_count": 3,
   "id": "7dbe2d1f",
   "metadata": {},
   "outputs": [
    {
     "name": "stdout",
     "output_type": "stream",
     "text": [
      "Unique Notes: 95\n",
      "30 : 17\n",
      "50 : 10\n",
      "70 : 5\n",
      "90 : 3\n"
     ]
    }
   ],
   "source": [
    "#unique notes\n",
    "notess= sum(notes_array, [])\n",
    "unique_notes= list(set(notess))\n",
    "print(\"Unique Notes:\", len(unique_notes))\n",
    "\n",
    "#notes with their frequency\n",
    "freq= dict(map(lambda x: (x, notess.count(x)), unique_notes))\n",
    "\n",
    "#get the threshold frequency\n",
    "for i in range (30, 100, 20):\n",
    "    print(i,\":\", len(list(filter(lambda x:x[1]>=i, freq.items()))))"
   ]
  },
  {
   "cell_type": "code",
   "execution_count": 4,
   "id": "a8a648b5",
   "metadata": {},
   "outputs": [],
   "source": [
    "#filter notes greater than threshold i.e. 50\n",
    "freq_notes= dict(filter(lambda x:x[1]>=50, freq.items()))\n",
    "\n",
    "#create new notes using the frequent notes\n",
    "new_notes=[[i for i in j if i in freq_notes] for j in notes_array]"
   ]
  },
  {
   "cell_type": "code",
   "execution_count": 5,
   "id": "b6454383",
   "metadata": {},
   "outputs": [],
   "source": [
    "#dictionary having key as note index ans value as note\n",
    "ind2note = dict(enumerate(freq_notes))\n",
    "\n",
    "#dictionary having key as note ans value as note index\n",
    "note2ind= dict(map(reversed, ind2note.items()))"
   ]
  },
  {
   "cell_type": "markdown",
   "id": "2c8f6982",
   "metadata": {},
   "source": [
    "## Input and Output Sequence for model"
   ]
  },
  {
   "cell_type": "code",
   "execution_count": 6,
   "id": "8df2001f",
   "metadata": {},
   "outputs": [],
   "source": [
    "#timestep\n",
    "timesteps= 50\n",
    "\n",
    "#store values of input and output\n",
    "x=[]; y=[]\n",
    "\n",
    "for i in new_notes:\n",
    "    for j in range(0, len(i)-timesteps):\n",
    "        #input will be the current index + timestep\n",
    "        #output will be the next index after timestep\n",
    "        inp= i[j:j+timesteps]; out=i[j+timesteps]\n",
    "        \n",
    "        #append the index value of respective notes\n",
    "        x.append(list(map(lambda x:note2ind[x], inp)))\n",
    "        y.append(note2ind[out])\n",
    "\n",
    "x_new= np.array(x);\n",
    "y_new= np.array(y)\n",
    "    "
   ]
  },
  {
   "cell_type": "markdown",
   "id": "d5323f93",
   "metadata": {},
   "source": [
    "## Training and Testing sets"
   ]
  },
  {
   "cell_type": "code",
   "execution_count": 7,
   "id": "3750fc8b",
   "metadata": {},
   "outputs": [],
   "source": [
    "#reshape input ans output for the model\n",
    "x_new= np.reshape(x_new, (len(x_new), timesteps, 1))\n",
    "y_new= np.reshape(y_new, (-1, 1))\n",
    "\n",
    "#split the input ans value into training and testing sets\n",
    "#80% for training ans 20% for testing sets\n",
    "\n",
    "x_train,x_test,y_train,y_test= train_test_split(x_new,y_new, test_size=0.2, random_state=42)"
   ]
  },
  {
   "cell_type": "markdown",
   "id": "be773223",
   "metadata": {},
   "source": [
    "## Building the model"
   ]
  },
  {
   "cell_type": "code",
   "execution_count": 8,
   "id": "949c8755",
   "metadata": {},
   "outputs": [
    {
     "name": "stdout",
     "output_type": "stream",
     "text": [
      "Model: \"sequential\"\n",
      "_________________________________________________________________\n",
      " Layer (type)                Output Shape              Param #   \n",
      "=================================================================\n",
      " lstm (LSTM)                 (None, 50, 256)           264192    \n",
      "                                                                 \n",
      " dropout (Dropout)           (None, 50, 256)           0         \n",
      "                                                                 \n",
      " lstm_1 (LSTM)               (None, 256)               525312    \n",
      "                                                                 \n",
      " dropout_1 (Dropout)         (None, 256)               0         \n",
      "                                                                 \n",
      " dense (Dense)               (None, 256)               65792     \n",
      "                                                                 \n",
      " dense_1 (Dense)             (None, 10)                2570      \n",
      "                                                                 \n",
      "=================================================================\n",
      "Total params: 857,866\n",
      "Trainable params: 857,866\n",
      "Non-trainable params: 0\n",
      "_________________________________________________________________\n"
     ]
    }
   ],
   "source": [
    "#create the model\n",
    "model= Sequential()\n",
    "\n",
    "#create two stacked LSTM layer with the latent dimension of 256\n",
    "model.add(LSTM(256, return_sequences=True, input_shape=(x_new.shape[1], x_new.shape[2])))\n",
    "model.add(Dropout(0.2))\n",
    "model.add(LSTM(256))\n",
    "model.add(Dropout(0.2))\n",
    "model.add(Dense(256, activation='relu'))\n",
    "\n",
    "#fully connected layer for the output with softmax activation\n",
    "model.add(Dense(len(note2ind), activation='softmax'))\n",
    "model.summary()"
   ]
  },
  {
   "cell_type": "markdown",
   "id": "0a406caf",
   "metadata": {},
   "source": [
    "## Train the model"
   ]
  },
  {
   "cell_type": "code",
   "execution_count": 9,
   "id": "ad924cca",
   "metadata": {},
   "outputs": [
    {
     "name": "stdout",
     "output_type": "stream",
     "text": [
      "Epoch 1/80\n",
      "5/5 [==============================] - 13s 1s/step - loss: 2.2621 - accuracy: 0.1693 - val_loss: 2.1786 - val_accuracy: 0.1975\n",
      "Epoch 2/80\n",
      "5/5 [==============================] - 4s 801ms/step - loss: 2.1529 - accuracy: 0.2348 - val_loss: 1.9771 - val_accuracy: 0.3312\n",
      "Epoch 3/80\n",
      "5/5 [==============================] - 4s 805ms/step - loss: 2.0031 - accuracy: 0.2796 - val_loss: 1.9012 - val_accuracy: 0.3885\n",
      "Epoch 4/80\n",
      "5/5 [==============================] - 4s 793ms/step - loss: 1.8849 - accuracy: 0.3482 - val_loss: 1.8268 - val_accuracy: 0.3439\n",
      "Epoch 5/80\n",
      "5/5 [==============================] - 4s 799ms/step - loss: 1.8248 - accuracy: 0.3243 - val_loss: 1.7546 - val_accuracy: 0.3503\n",
      "Epoch 6/80\n",
      "5/5 [==============================] - 4s 840ms/step - loss: 1.7409 - accuracy: 0.3275 - val_loss: 1.6437 - val_accuracy: 0.3312\n",
      "Epoch 7/80\n",
      "5/5 [==============================] - 4s 812ms/step - loss: 1.6655 - accuracy: 0.3770 - val_loss: 1.5701 - val_accuracy: 0.4140\n",
      "Epoch 8/80\n",
      "5/5 [==============================] - 4s 806ms/step - loss: 1.6475 - accuracy: 0.3914 - val_loss: 1.5397 - val_accuracy: 0.4076\n",
      "Epoch 9/80\n",
      "5/5 [==============================] - 4s 829ms/step - loss: 1.6085 - accuracy: 0.4058 - val_loss: 1.5219 - val_accuracy: 0.4268\n",
      "Epoch 10/80\n",
      "5/5 [==============================] - 4s 849ms/step - loss: 1.5672 - accuracy: 0.3946 - val_loss: 1.5879 - val_accuracy: 0.3694\n",
      "Epoch 11/80\n",
      "5/5 [==============================] - 4s 838ms/step - loss: 1.5226 - accuracy: 0.4169 - val_loss: 1.4829 - val_accuracy: 0.4268\n",
      "Epoch 12/80\n",
      "5/5 [==============================] - 4s 828ms/step - loss: 1.5055 - accuracy: 0.4153 - val_loss: 1.4723 - val_accuracy: 0.4459\n",
      "Epoch 13/80\n",
      "5/5 [==============================] - 4s 864ms/step - loss: 1.4787 - accuracy: 0.4441 - val_loss: 1.4477 - val_accuracy: 0.4204\n",
      "Epoch 14/80\n",
      "5/5 [==============================] - 4s 859ms/step - loss: 1.4768 - accuracy: 0.4473 - val_loss: 1.4498 - val_accuracy: 0.4268\n",
      "Epoch 15/80\n",
      "5/5 [==============================] - 4s 817ms/step - loss: 1.4585 - accuracy: 0.4633 - val_loss: 1.4780 - val_accuracy: 0.4268\n",
      "Epoch 16/80\n",
      "5/5 [==============================] - 4s 839ms/step - loss: 1.4088 - accuracy: 0.4681 - val_loss: 1.4029 - val_accuracy: 0.4713\n",
      "Epoch 17/80\n",
      "5/5 [==============================] - 4s 842ms/step - loss: 1.3926 - accuracy: 0.4712 - val_loss: 1.3857 - val_accuracy: 0.4904\n",
      "Epoch 18/80\n",
      "5/5 [==============================] - 4s 853ms/step - loss: 1.3685 - accuracy: 0.4856 - val_loss: 1.3800 - val_accuracy: 0.4459\n",
      "Epoch 19/80\n",
      "5/5 [==============================] - 4s 815ms/step - loss: 1.3558 - accuracy: 0.4633 - val_loss: 1.3896 - val_accuracy: 0.4713\n",
      "Epoch 20/80\n",
      "5/5 [==============================] - 4s 846ms/step - loss: 1.3310 - accuracy: 0.5000 - val_loss: 1.4010 - val_accuracy: 0.4395\n",
      "Epoch 21/80\n",
      "5/5 [==============================] - 4s 858ms/step - loss: 1.3326 - accuracy: 0.4744 - val_loss: 1.4398 - val_accuracy: 0.4395\n",
      "Epoch 22/80\n",
      "5/5 [==============================] - 4s 846ms/step - loss: 1.3030 - accuracy: 0.5080 - val_loss: 1.3677 - val_accuracy: 0.4650\n",
      "Epoch 23/80\n",
      "5/5 [==============================] - 4s 832ms/step - loss: 1.2904 - accuracy: 0.4936 - val_loss: 1.3764 - val_accuracy: 0.4459\n",
      "Epoch 24/80\n",
      "5/5 [==============================] - 4s 875ms/step - loss: 1.2871 - accuracy: 0.4984 - val_loss: 1.3977 - val_accuracy: 0.4331\n",
      "Epoch 25/80\n",
      "5/5 [==============================] - 4s 851ms/step - loss: 1.2622 - accuracy: 0.4872 - val_loss: 1.3302 - val_accuracy: 0.5159\n",
      "Epoch 26/80\n",
      "5/5 [==============================] - 4s 841ms/step - loss: 1.2774 - accuracy: 0.5016 - val_loss: 1.4174 - val_accuracy: 0.4331\n",
      "Epoch 27/80\n",
      "5/5 [==============================] - 4s 851ms/step - loss: 1.2506 - accuracy: 0.4872 - val_loss: 1.3436 - val_accuracy: 0.4841\n",
      "Epoch 28/80\n",
      "5/5 [==============================] - 4s 833ms/step - loss: 1.2452 - accuracy: 0.4776 - val_loss: 1.3181 - val_accuracy: 0.5032\n",
      "Epoch 29/80\n",
      "5/5 [==============================] - 4s 885ms/step - loss: 1.2235 - accuracy: 0.5112 - val_loss: 1.2952 - val_accuracy: 0.5032\n",
      "Epoch 30/80\n",
      "5/5 [==============================] - 4s 858ms/step - loss: 1.2013 - accuracy: 0.5000 - val_loss: 1.3912 - val_accuracy: 0.4586\n",
      "Epoch 31/80\n",
      "5/5 [==============================] - 4s 830ms/step - loss: 1.2171 - accuracy: 0.4952 - val_loss: 1.3117 - val_accuracy: 0.4904\n",
      "Epoch 32/80\n",
      "5/5 [==============================] - 4s 840ms/step - loss: 1.1549 - accuracy: 0.5256 - val_loss: 1.3129 - val_accuracy: 0.5096\n",
      "Epoch 33/80\n",
      "5/5 [==============================] - 4s 840ms/step - loss: 1.1729 - accuracy: 0.5272 - val_loss: 1.4036 - val_accuracy: 0.4841\n",
      "Epoch 34/80\n",
      "5/5 [==============================] - 4s 892ms/step - loss: 1.1978 - accuracy: 0.5160 - val_loss: 1.3212 - val_accuracy: 0.4904\n",
      "Epoch 35/80\n",
      "5/5 [==============================] - 4s 851ms/step - loss: 1.1628 - accuracy: 0.5032 - val_loss: 1.3287 - val_accuracy: 0.4968\n",
      "Epoch 36/80\n",
      "5/5 [==============================] - 4s 891ms/step - loss: 1.1361 - accuracy: 0.5144 - val_loss: 1.2319 - val_accuracy: 0.5414\n",
      "Epoch 37/80\n",
      "5/5 [==============================] - 4s 857ms/step - loss: 1.1296 - accuracy: 0.5208 - val_loss: 1.2933 - val_accuracy: 0.4777\n",
      "Epoch 38/80\n",
      "5/5 [==============================] - 4s 836ms/step - loss: 1.0967 - accuracy: 0.5463 - val_loss: 1.2796 - val_accuracy: 0.5287\n",
      "Epoch 39/80\n",
      "5/5 [==============================] - 4s 838ms/step - loss: 1.0926 - accuracy: 0.5224 - val_loss: 1.3139 - val_accuracy: 0.4522\n",
      "Epoch 40/80\n",
      "5/5 [==============================] - 4s 892ms/step - loss: 1.0728 - accuracy: 0.5703 - val_loss: 1.2793 - val_accuracy: 0.4713\n",
      "Epoch 41/80\n",
      "5/5 [==============================] - 4s 824ms/step - loss: 1.0384 - accuracy: 0.5543 - val_loss: 1.2461 - val_accuracy: 0.5032\n",
      "Epoch 42/80\n",
      "5/5 [==============================] - 4s 838ms/step - loss: 1.0551 - accuracy: 0.5591 - val_loss: 1.2131 - val_accuracy: 0.5287\n",
      "Epoch 43/80\n",
      "5/5 [==============================] - 4s 888ms/step - loss: 1.0526 - accuracy: 0.5463 - val_loss: 1.3083 - val_accuracy: 0.5159\n",
      "Epoch 44/80\n",
      "5/5 [==============================] - 4s 813ms/step - loss: 1.0722 - accuracy: 0.5511 - val_loss: 1.2958 - val_accuracy: 0.4904\n",
      "Epoch 45/80\n",
      "5/5 [==============================] - 4s 824ms/step - loss: 1.0706 - accuracy: 0.5431 - val_loss: 1.2862 - val_accuracy: 0.5223\n",
      "Epoch 46/80\n",
      "5/5 [==============================] - 4s 821ms/step - loss: 1.1804 - accuracy: 0.5144 - val_loss: 1.2764 - val_accuracy: 0.4713\n",
      "Epoch 47/80\n",
      "5/5 [==============================] - 4s 826ms/step - loss: 1.0746 - accuracy: 0.5431 - val_loss: 1.2794 - val_accuracy: 0.5096\n",
      "Epoch 48/80\n",
      "5/5 [==============================] - 4s 820ms/step - loss: 1.0314 - accuracy: 0.5719 - val_loss: 1.2982 - val_accuracy: 0.4522\n",
      "Epoch 49/80\n",
      "5/5 [==============================] - 4s 814ms/step - loss: 0.9997 - accuracy: 0.5719 - val_loss: 1.2614 - val_accuracy: 0.4968\n",
      "Epoch 50/80\n",
      "5/5 [==============================] - 4s 825ms/step - loss: 0.9945 - accuracy: 0.5751 - val_loss: 1.2973 - val_accuracy: 0.4650\n",
      "Epoch 51/80\n",
      "5/5 [==============================] - 4s 846ms/step - loss: 0.9505 - accuracy: 0.6038 - val_loss: 1.3000 - val_accuracy: 0.4841\n",
      "Epoch 52/80\n",
      "5/5 [==============================] - 4s 834ms/step - loss: 0.9903 - accuracy: 0.5703 - val_loss: 1.2321 - val_accuracy: 0.5159\n",
      "Epoch 53/80\n",
      "5/5 [==============================] - 4s 806ms/step - loss: 0.9656 - accuracy: 0.5799 - val_loss: 1.3065 - val_accuracy: 0.4777\n",
      "Epoch 54/80\n",
      "5/5 [==============================] - 4s 823ms/step - loss: 0.9765 - accuracy: 0.5735 - val_loss: 1.2851 - val_accuracy: 0.4395\n",
      "Epoch 55/80\n",
      "5/5 [==============================] - 4s 839ms/step - loss: 0.9593 - accuracy: 0.5879 - val_loss: 1.2920 - val_accuracy: 0.5159\n",
      "Epoch 56/80\n",
      "5/5 [==============================] - 4s 843ms/step - loss: 0.9334 - accuracy: 0.5815 - val_loss: 1.3369 - val_accuracy: 0.4331\n",
      "Epoch 57/80\n",
      "5/5 [==============================] - 4s 816ms/step - loss: 0.9497 - accuracy: 0.5831 - val_loss: 1.4131 - val_accuracy: 0.4204\n",
      "Epoch 58/80\n",
      "5/5 [==============================] - 4s 820ms/step - loss: 0.9360 - accuracy: 0.6038 - val_loss: 1.2370 - val_accuracy: 0.4904\n",
      "Epoch 59/80\n"
     ]
    },
    {
     "name": "stdout",
     "output_type": "stream",
     "text": [
      "5/5 [==============================] - 4s 836ms/step - loss: 0.8853 - accuracy: 0.6070 - val_loss: 1.2598 - val_accuracy: 0.5096\n",
      "Epoch 60/80\n",
      "5/5 [==============================] - 4s 843ms/step - loss: 0.8637 - accuracy: 0.6310 - val_loss: 1.3254 - val_accuracy: 0.4841\n",
      "Epoch 61/80\n",
      "5/5 [==============================] - 4s 814ms/step - loss: 0.8448 - accuracy: 0.6326 - val_loss: 1.2243 - val_accuracy: 0.4713\n",
      "Epoch 62/80\n",
      "5/5 [==============================] - 4s 876ms/step - loss: 0.8461 - accuracy: 0.6502 - val_loss: 1.2687 - val_accuracy: 0.4968\n",
      "Epoch 63/80\n",
      "5/5 [==============================] - 4s 846ms/step - loss: 0.8277 - accuracy: 0.6534 - val_loss: 1.2271 - val_accuracy: 0.5159\n",
      "Epoch 64/80\n",
      "5/5 [==============================] - 4s 812ms/step - loss: 0.8121 - accuracy: 0.6406 - val_loss: 1.2761 - val_accuracy: 0.4650\n",
      "Epoch 65/80\n",
      "5/5 [==============================] - 4s 823ms/step - loss: 0.7790 - accuracy: 0.6629 - val_loss: 1.2410 - val_accuracy: 0.5605\n",
      "Epoch 66/80\n",
      "5/5 [==============================] - 4s 815ms/step - loss: 0.7277 - accuracy: 0.6837 - val_loss: 1.2011 - val_accuracy: 0.5478\n",
      "Epoch 67/80\n",
      "5/5 [==============================] - 4s 838ms/step - loss: 0.7328 - accuracy: 0.6885 - val_loss: 1.1788 - val_accuracy: 0.5414\n",
      "Epoch 68/80\n",
      "5/5 [==============================] - 4s 823ms/step - loss: 0.7024 - accuracy: 0.7045 - val_loss: 1.2312 - val_accuracy: 0.5096\n",
      "Epoch 69/80\n",
      "5/5 [==============================] - 4s 870ms/step - loss: 0.6887 - accuracy: 0.7141 - val_loss: 1.1964 - val_accuracy: 0.5605\n",
      "Epoch 70/80\n",
      "5/5 [==============================] - 4s 820ms/step - loss: 0.6748 - accuracy: 0.7061 - val_loss: 1.1397 - val_accuracy: 0.5796\n",
      "Epoch 71/80\n",
      "5/5 [==============================] - 4s 878ms/step - loss: 0.6347 - accuracy: 0.7380 - val_loss: 1.1916 - val_accuracy: 0.5732\n",
      "Epoch 72/80\n",
      "5/5 [==============================] - 4s 821ms/step - loss: 0.6489 - accuracy: 0.7268 - val_loss: 1.1940 - val_accuracy: 0.5350\n",
      "Epoch 73/80\n",
      "5/5 [==============================] - 4s 847ms/step - loss: 0.6429 - accuracy: 0.7460 - val_loss: 1.2661 - val_accuracy: 0.5096\n",
      "Epoch 74/80\n",
      "5/5 [==============================] - 4s 832ms/step - loss: 0.6785 - accuracy: 0.7220 - val_loss: 1.3187 - val_accuracy: 0.5032\n",
      "Epoch 75/80\n",
      "5/5 [==============================] - 4s 816ms/step - loss: 0.6921 - accuracy: 0.7188 - val_loss: 1.2775 - val_accuracy: 0.5414\n",
      "Epoch 76/80\n",
      "5/5 [==============================] - 4s 821ms/step - loss: 0.6715 - accuracy: 0.7252 - val_loss: 1.1465 - val_accuracy: 0.6242\n",
      "Epoch 77/80\n",
      "5/5 [==============================] - 4s 827ms/step - loss: 0.6448 - accuracy: 0.7268 - val_loss: 1.2473 - val_accuracy: 0.5287\n",
      "Epoch 78/80\n",
      "5/5 [==============================] - 4s 853ms/step - loss: 0.6042 - accuracy: 0.7476 - val_loss: 1.1692 - val_accuracy: 0.5732\n",
      "Epoch 79/80\n",
      "5/5 [==============================] - 4s 834ms/step - loss: 0.5741 - accuracy: 0.7827 - val_loss: 1.1321 - val_accuracy: 0.5669\n",
      "Epoch 80/80\n",
      "5/5 [==============================] - 4s 857ms/step - loss: 0.5704 - accuracy: 0.7843 - val_loss: 1.1605 - val_accuracy: 0.5924\n"
     ]
    },
    {
     "data": {
      "text/plain": [
       "<keras.callbacks.History at 0x1e02a868190>"
      ]
     },
     "execution_count": 9,
     "metadata": {},
     "output_type": "execute_result"
    }
   ],
   "source": [
    "#compile the model using Adam optimizer\n",
    "model.compile(loss='sparse_categorical_crossentropy', optimizer='adam', metrics=['accuracy'])\n",
    "\n",
    "#train the model on training sets ans validate on testing sets\n",
    "model.fit(x_train, y_train, batch_size=128, epochs=80, validation_data=(x_test, y_test))"
   ]
  },
  {
   "cell_type": "markdown",
   "id": "4fe20644",
   "metadata": {},
   "source": [
    "## Save model"
   ]
  },
  {
   "cell_type": "code",
   "execution_count": 10,
   "id": "23f39f9c",
   "metadata": {},
   "outputs": [],
   "source": [
    "import pickle"
   ]
  },
  {
   "cell_type": "code",
   "execution_count": 11,
   "id": "917c789b",
   "metadata": {},
   "outputs": [
    {
     "name": "stderr",
     "output_type": "stream",
     "text": [
      "WARNING:absl:Found untraced functions such as lstm_cell_layer_call_fn, lstm_cell_layer_call_and_return_conditional_losses, lstm_cell_1_layer_call_fn, lstm_cell_1_layer_call_and_return_conditional_losses while saving (showing 4 of 4). These functions will not be directly callable after loading.\n"
     ]
    },
    {
     "name": "stdout",
     "output_type": "stream",
     "text": [
      "INFO:tensorflow:Assets written to: ram://eefe88cc-ed9a-4d1a-9243-7160e10ce1d1/assets\n"
     ]
    },
    {
     "name": "stderr",
     "output_type": "stream",
     "text": [
      "INFO:tensorflow:Assets written to: ram://eefe88cc-ed9a-4d1a-9243-7160e10ce1d1/assets\n"
     ]
    }
   ],
   "source": [
    "pickle.dump(model, open('model.pkl', 'wb'))"
   ]
  },
  {
   "cell_type": "code",
   "execution_count": null,
   "id": "05c7e536",
   "metadata": {},
   "outputs": [],
   "source": []
  }
 ],
 "metadata": {
  "kernelspec": {
   "display_name": "Python 3 (ipykernel)",
   "language": "python",
   "name": "python3"
  },
  "language_info": {
   "codemirror_mode": {
    "name": "ipython",
    "version": 3
   },
   "file_extension": ".py",
   "mimetype": "text/x-python",
   "name": "python",
   "nbconvert_exporter": "python",
   "pygments_lexer": "ipython3",
   "version": "3.9.1"
  }
 },
 "nbformat": 4,
 "nbformat_minor": 5
}
